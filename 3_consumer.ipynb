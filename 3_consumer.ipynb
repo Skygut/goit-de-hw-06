{
 "cells": [
  {
   "cell_type": "code",
   "execution_count": 1,
   "metadata": {},
   "outputs": [
    {
     "ename": "ImportError",
     "evalue": "cannot import name 'KafkaConsumer' from partially initialized module 'kafka' (most likely due to a circular import) (/Users/volodymyrchub/Documents/GitHub/goit-de-hw-06/kafka.py)",
     "output_type": "error",
     "traceback": [
      "\u001b[0;31m---------------------------------------------------------------------------\u001b[0m",
      "\u001b[0;31mImportError\u001b[0m                               Traceback (most recent call last)",
      "Cell \u001b[0;32mIn[1], line 2\u001b[0m\n\u001b[1;32m      1\u001b[0m \u001b[38;5;66;03m# consumer.py\u001b[39;00m\n\u001b[0;32m----> 2\u001b[0m \u001b[38;5;28;01mfrom\u001b[39;00m \u001b[38;5;21;01mkafka\u001b[39;00m \u001b[38;5;28;01mimport\u001b[39;00m KafkaConsumer, KafkaProducer\n\u001b[1;32m      3\u001b[0m \u001b[38;5;28;01mimport\u001b[39;00m \u001b[38;5;21;01mjson\u001b[39;00m\n\u001b[1;32m      4\u001b[0m \u001b[38;5;28;01mfrom\u001b[39;00m \u001b[38;5;21;01mconfigs\u001b[39;00m \u001b[38;5;28;01mimport\u001b[39;00m kafka_config\n",
      "File \u001b[0;32m~/Documents/GitHub/goit-de-hw-06/kafka.py:1\u001b[0m\n\u001b[0;32m----> 1\u001b[0m \u001b[38;5;28;01mfrom\u001b[39;00m \u001b[38;5;21;01mkafka\u001b[39;00m \u001b[38;5;28;01mimport\u001b[39;00m KafkaConsumer, KafkaError\n\u001b[1;32m      2\u001b[0m \u001b[38;5;28;01mimport\u001b[39;00m \u001b[38;5;21;01mlogging\u001b[39;00m\n\u001b[1;32m      4\u001b[0m \u001b[38;5;66;03m# Налаштування логера для запису повідомлень про помилки\u001b[39;00m\n",
      "\u001b[0;31mImportError\u001b[0m: cannot import name 'KafkaConsumer' from partially initialized module 'kafka' (most likely due to a circular import) (/Users/volodymyrchub/Documents/GitHub/goit-de-hw-06/kafka.py)"
     ]
    }
   ],
   "source": [
    "\n",
    "# consumer.py\n",
    "from kafka import KafkaConsumer, KafkaProducer\n",
    "import json\n",
    "from configs import kafka_config\n",
    "\n",
    "# Налаштування Kafka\n",
    "KAFKA_CONFIG = {\n",
    "    'bootstrap_servers': kafka_config[\"bootstrap_servers\"],\n",
    "    'security_protocol': kafka_config[\"security_protocol\"],\n",
    "    'sasl_mechanism': kafka_config[\"sasl_mechanism\"],\n",
    "    'sasl_plain_username': kafka_config[\"username\"],\n",
    "    'sasl_plain_password': kafka_config[\"password\"]\n",
    "}\n",
    "\n",
    "your_name = \"volodymyr17\"\n",
    "TOPIC_SENSORS = f'building_sensors_{your_name}'\n",
    "TOPIC_TEMPERATURE_ALERTS = f'temperature_alerts_{your_name}'\n",
    "TOPIC_HUMIDITY_ALERTS = f'humidity_alerts_{your_name}'\n",
    "\n",
    "# Споживач (Consumer) для обробки даних з датчиків і відправки сповіщень\n",
    "def consume_and_analyze_sensor_data():\n",
    "    consumer = KafkaConsumer(\n",
    "        TOPIC_SENSORS,\n",
    "        **KAFKA_CONFIG,\n",
    "        value_deserializer=lambda v: json.loads(v.decode('utf-8'))\n",
    "    )\n",
    "    producer = KafkaProducer(\n",
    "        **KAFKA_CONFIG,\n",
    "        value_serializer=lambda v: json.dumps(v).encode('utf-8')\n",
    "    )\n",
    "    try:\n",
    "        for message in consumer:\n",
    "                    sensor_data = message.value\n",
    "                    temperature = sensor_data['temperature']\n",
    "                    humidity = sensor_data['humidity']\n",
    "\n",
    "                    # Перевірка температури\n",
    "                    if temperature > 40.0:\n",
    "                        alert = {\n",
    "                            'building_id': sensor_data['sensor_id'],\n",
    "                            'alert': f'Temperature too high: {temperature} C'\n",
    "                        }\n",
    "                        producer.send(TOPIC_TEMPERATURE_ALERTS, value=alert)\n",
    "                        print(f\"Температурне сповіщення: {alert}\")\n",
    "\n",
    "                    # Перевірка вологості\n",
    "                    if humidity < 20.0 or humidity > 80.0:\n",
    "                        alert = {\n",
    "                            'building_id': sensor_data['sensor_id'],\n",
    "                            'alert': f'Humidity out of range: {humidity}%'\n",
    "                        }\n",
    "                        producer.send(TOPIC_HUMIDITY_ALERTS, value=alert)\n",
    "                        print(f\"Сповіщення про вологість: {alert}\")\n",
    "    except Exception as e:\n",
    "        print(f\"An error occurred: {e}\")\n",
    "    finally:\n",
    "        consumer.close()\n",
    "        \n",
    "\n",
    "if __name__ == \"__main__\":\n",
    "    consume_and_analyze_sensor_data()"
   ]
  }
 ],
 "metadata": {
  "kernelspec": {
   "display_name": "Python 3",
   "language": "python",
   "name": "python3"
  },
  "language_info": {
   "codemirror_mode": {
    "name": "ipython",
    "version": 3
   },
   "file_extension": ".py",
   "mimetype": "text/x-python",
   "name": "python",
   "nbconvert_exporter": "python",
   "pygments_lexer": "ipython3",
   "version": "3.11.9"
  }
 },
 "nbformat": 4,
 "nbformat_minor": 2
}
