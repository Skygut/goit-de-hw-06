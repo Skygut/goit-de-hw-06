{
 "cells": [
  {
   "cell_type": "code",
   "execution_count": 1,
   "metadata": {},
   "outputs": [
    {
     "name": "stdout",
     "output_type": "stream",
     "text": [
      "Повідомлення 0 надіслано в тему 'building_sensors_volodymyr17' успішно з даними: {'sensor_id': 5, 'timestamp': '2024-11-24 16:22:29', 'temperature': 31, 'humidity': 85}\n",
      "Повідомлення 1 надіслано в тему 'building_sensors_volodymyr17' успішно з даними: {'sensor_id': 5, 'timestamp': '2024-11-24 16:22:33', 'temperature': 43, 'humidity': 37}\n",
      "Повідомлення 2 надіслано в тему 'building_sensors_volodymyr17' успішно з даними: {'sensor_id': 5, 'timestamp': '2024-11-24 16:22:35', 'temperature': 45, 'humidity': 20}\n",
      "Повідомлення 3 надіслано в тему 'building_sensors_volodymyr17' успішно з даними: {'sensor_id': 5, 'timestamp': '2024-11-24 16:22:37', 'temperature': 41, 'humidity': 23}\n",
      "Повідомлення 4 надіслано в тему 'building_sensors_volodymyr17' успішно з даними: {'sensor_id': 5, 'timestamp': '2024-11-24 16:22:39', 'temperature': 35, 'humidity': 65}\n",
      "Повідомлення 5 надіслано в тему 'building_sensors_volodymyr17' успішно з даними: {'sensor_id': 5, 'timestamp': '2024-11-24 16:22:41', 'temperature': 25, 'humidity': 30}\n",
      "Повідомлення 6 надіслано в тему 'building_sensors_volodymyr17' успішно з даними: {'sensor_id': 5, 'timestamp': '2024-11-24 16:22:43', 'temperature': 43, 'humidity': 18}\n",
      "Повідомлення 7 надіслано в тему 'building_sensors_volodymyr17' успішно з даними: {'sensor_id': 5, 'timestamp': '2024-11-24 16:22:45', 'temperature': 33, 'humidity': 29}\n",
      "Повідомлення 8 надіслано в тему 'building_sensors_volodymyr17' успішно з даними: {'sensor_id': 5, 'timestamp': '2024-11-24 16:22:48', 'temperature': 40, 'humidity': 75}\n",
      "Повідомлення 9 надіслано в тему 'building_sensors_volodymyr17' успішно з даними: {'sensor_id': 5, 'timestamp': '2024-11-24 16:22:50', 'temperature': 31, 'humidity': 25}\n",
      "Повідомлення 10 надіслано в тему 'building_sensors_volodymyr17' успішно з даними: {'sensor_id': 5, 'timestamp': '2024-11-24 16:22:52', 'temperature': 26, 'humidity': 38}\n",
      "Повідомлення 11 надіслано в тему 'building_sensors_volodymyr17' успішно з даними: {'sensor_id': 5, 'timestamp': '2024-11-24 16:22:54', 'temperature': 32, 'humidity': 16}\n",
      "Повідомлення 12 надіслано в тему 'building_sensors_volodymyr17' успішно з даними: {'sensor_id': 5, 'timestamp': '2024-11-24 16:22:56', 'temperature': 28, 'humidity': 66}\n",
      "Повідомлення 13 надіслано в тему 'building_sensors_volodymyr17' успішно з даними: {'sensor_id': 5, 'timestamp': '2024-11-24 16:22:58', 'temperature': 32, 'humidity': 76}\n",
      "Повідомлення 14 надіслано в тему 'building_sensors_volodymyr17' успішно з даними: {'sensor_id': 5, 'timestamp': '2024-11-24 16:23:01', 'temperature': 30, 'humidity': 85}\n",
      "Повідомлення 15 надіслано в тему 'building_sensors_volodymyr17' успішно з даними: {'sensor_id': 5, 'timestamp': '2024-11-24 16:23:03', 'temperature': 36, 'humidity': 81}\n",
      "Повідомлення 16 надіслано в тему 'building_sensors_volodymyr17' успішно з даними: {'sensor_id': 5, 'timestamp': '2024-11-24 16:23:05', 'temperature': 39, 'humidity': 39}\n",
      "Повідомлення 17 надіслано в тему 'building_sensors_volodymyr17' успішно з даними: {'sensor_id': 5, 'timestamp': '2024-11-24 16:23:07', 'temperature': 44, 'humidity': 78}\n",
      "Повідомлення 18 надіслано в тему 'building_sensors_volodymyr17' успішно з даними: {'sensor_id': 5, 'timestamp': '2024-11-24 16:23:09', 'temperature': 35, 'humidity': 24}\n",
      "Повідомлення 19 надіслано в тему 'building_sensors_volodymyr17' успішно з даними: {'sensor_id': 5, 'timestamp': '2024-11-24 16:23:11', 'temperature': 31, 'humidity': 68}\n"
     ]
    }
   ],
   "source": [
    "# producer.py\n",
    "from kafka import KafkaProducer\n",
    "import json\n",
    "import random\n",
    "import time\n",
    "import uuid\n",
    "from configs import kafka_config\n",
    "\n",
    "# Налаштування Kafka\n",
    "KAFKA_CONFIG = {\n",
    "    \"bootstrap_servers\": kafka_config[\"bootstrap_servers\"],\n",
    "    \"security_protocol\": kafka_config[\"security_protocol\"],\n",
    "    \"sasl_mechanism\": kafka_config[\"sasl_mechanism\"],\n",
    "    \"sasl_plain_username\": kafka_config[\"username\"],\n",
    "    \"sasl_plain_password\": kafka_config[\"password\"],\n",
    "}\n",
    "\n",
    "your_name = \"volodymyr17\"\n",
    "TOPIC_SENSORS = f\"building_sensors_{your_name}\"\n",
    "\n",
    "\n",
    "# Виробник (Producer) для відправки даних з датчиків у топік building_sensors\n",
    "def produce_sensor_data():\n",
    "    producer = KafkaProducer(\n",
    "        **KAFKA_CONFIG, value_serializer=lambda v: json.dumps(v).encode(\"utf-8\")\n",
    "    )\n",
    "    sensor_id = random.randint(1, 5)\n",
    "    for i in range(20):\n",
    "        try:\n",
    "            data = {\n",
    "                \"sensor_id\": sensor_id,\n",
    "                \"timestamp\": time.strftime(\"%Y-%m-%d %H:%M:%S\", time.localtime()),\n",
    "                \"temperature\": random.randint(25, 45),\n",
    "                \"humidity\": random.randint(15, 85),\n",
    "            }\n",
    "            producer.send(\n",
    "                TOPIC_SENSORS, key=str(uuid.uuid4()).encode(\"utf-8\"), value=data\n",
    "            )\n",
    "            producer.flush()\n",
    "            print(\n",
    "                f\"Повідомлення {i} надіслано в тему '{TOPIC_SENSORS}' успішно з даними: {data}\"\n",
    "            )\n",
    "            time.sleep(2)\n",
    "        except Exception as e:\n",
    "            print(f\"An error occurred: {e}\")\n",
    "    producer.close()\n",
    "\n",
    "\n",
    "if __name__ == \"__main__\":\n",
    "    produce_sensor_data()"
   ]
  }
 ],
 "metadata": {
  "kernelspec": {
   "display_name": "Python 3",
   "language": "python",
   "name": "python3"
  },
  "language_info": {
   "codemirror_mode": {
    "name": "ipython",
    "version": 3
   },
   "file_extension": ".py",
   "mimetype": "text/x-python",
   "name": "python",
   "nbconvert_exporter": "python",
   "pygments_lexer": "ipython3",
   "version": "3.11.9"
  }
 },
 "nbformat": 4,
 "nbformat_minor": 2
}
