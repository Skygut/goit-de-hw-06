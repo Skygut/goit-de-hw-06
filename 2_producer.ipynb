{
 "cells": [
  {
   "cell_type": "code",
   "execution_count": 1,
   "metadata": {},
   "outputs": [
    {
     "name": "stdout",
     "output_type": "stream",
     "text": [
      "Повідомлення 0 надіслано в тему 'building_sensors_volodymyr17' успішно з даними: {'sensor_id': 5, 'timestamp': '2024-11-25 22:42:43', 'temperature': 25, 'humidity': 49}\n",
      "Повідомлення 1 надіслано в тему 'building_sensors_volodymyr17' успішно з даними: {'sensor_id': 5, 'timestamp': '2024-11-25 22:42:45', 'temperature': 29, 'humidity': 58}\n",
      "Повідомлення 2 надіслано в тему 'building_sensors_volodymyr17' успішно з даними: {'sensor_id': 5, 'timestamp': '2024-11-25 22:42:47', 'temperature': 34, 'humidity': 25}\n",
      "Повідомлення 3 надіслано в тему 'building_sensors_volodymyr17' успішно з даними: {'sensor_id': 5, 'timestamp': '2024-11-25 22:42:49', 'temperature': 25, 'humidity': 51}\n",
      "Повідомлення 4 надіслано в тему 'building_sensors_volodymyr17' успішно з даними: {'sensor_id': 5, 'timestamp': '2024-11-25 22:42:51', 'temperature': 29, 'humidity': 44}\n",
      "Повідомлення 5 надіслано в тему 'building_sensors_volodymyr17' успішно з даними: {'sensor_id': 5, 'timestamp': '2024-11-25 22:42:53', 'temperature': 26, 'humidity': 26}\n",
      "Повідомлення 6 надіслано в тему 'building_sensors_volodymyr17' успішно з даними: {'sensor_id': 5, 'timestamp': '2024-11-25 22:42:55', 'temperature': 38, 'humidity': 49}\n",
      "Повідомлення 7 надіслано в тему 'building_sensors_volodymyr17' успішно з даними: {'sensor_id': 5, 'timestamp': '2024-11-25 22:42:57', 'temperature': 40, 'humidity': 49}\n",
      "Повідомлення 8 надіслано в тему 'building_sensors_volodymyr17' успішно з даними: {'sensor_id': 5, 'timestamp': '2024-11-25 22:42:59', 'temperature': 26, 'humidity': 72}\n",
      "Повідомлення 9 надіслано в тему 'building_sensors_volodymyr17' успішно з даними: {'sensor_id': 5, 'timestamp': '2024-11-25 22:43:02', 'temperature': 33, 'humidity': 68}\n",
      "Повідомлення 10 надіслано в тему 'building_sensors_volodymyr17' успішно з даними: {'sensor_id': 5, 'timestamp': '2024-11-25 22:43:04', 'temperature': 40, 'humidity': 73}\n",
      "Повідомлення 11 надіслано в тему 'building_sensors_volodymyr17' успішно з даними: {'sensor_id': 5, 'timestamp': '2024-11-25 22:43:06', 'temperature': 45, 'humidity': 42}\n",
      "Повідомлення 12 надіслано в тему 'building_sensors_volodymyr17' успішно з даними: {'sensor_id': 5, 'timestamp': '2024-11-25 22:43:08', 'temperature': 29, 'humidity': 45}\n",
      "Повідомлення 13 надіслано в тему 'building_sensors_volodymyr17' успішно з даними: {'sensor_id': 5, 'timestamp': '2024-11-25 22:43:10', 'temperature': 33, 'humidity': 23}\n",
      "Повідомлення 14 надіслано в тему 'building_sensors_volodymyr17' успішно з даними: {'sensor_id': 5, 'timestamp': '2024-11-25 22:43:12', 'temperature': 44, 'humidity': 53}\n",
      "Повідомлення 15 надіслано в тему 'building_sensors_volodymyr17' успішно з даними: {'sensor_id': 5, 'timestamp': '2024-11-25 22:43:14', 'temperature': 43, 'humidity': 73}\n",
      "Повідомлення 16 надіслано в тему 'building_sensors_volodymyr17' успішно з даними: {'sensor_id': 5, 'timestamp': '2024-11-25 22:43:16', 'temperature': 30, 'humidity': 43}\n",
      "Повідомлення 17 надіслано в тему 'building_sensors_volodymyr17' успішно з даними: {'sensor_id': 5, 'timestamp': '2024-11-25 22:43:18', 'temperature': 37, 'humidity': 64}\n",
      "Повідомлення 18 надіслано в тему 'building_sensors_volodymyr17' успішно з даними: {'sensor_id': 5, 'timestamp': '2024-11-25 22:43:20', 'temperature': 35, 'humidity': 79}\n",
      "Повідомлення 19 надіслано в тему 'building_sensors_volodymyr17' успішно з даними: {'sensor_id': 5, 'timestamp': '2024-11-25 22:43:22', 'temperature': 37, 'humidity': 75}\n"
     ]
    }
   ],
   "source": [
    "# producer.py\n",
    "from kafka import KafkaProducer\n",
    "import json\n",
    "import random\n",
    "import time\n",
    "import uuid\n",
    "from configs import kafka_config\n",
    "\n",
    "# Налаштування Kafka\n",
    "KAFKA_CONFIG = {\n",
    "    \"bootstrap_servers\": kafka_config[\"bootstrap_servers\"],\n",
    "    \"security_protocol\": kafka_config[\"security_protocol\"],\n",
    "    \"sasl_mechanism\": kafka_config[\"sasl_mechanism\"],\n",
    "    \"sasl_plain_username\": kafka_config[\"username\"],\n",
    "    \"sasl_plain_password\": kafka_config[\"password\"],\n",
    "}\n",
    "\n",
    "your_name = \"volodymyr17\"\n",
    "TOPIC_SENSORS = f\"building_sensors_{your_name}\"\n",
    "\n",
    "\n",
    "# Виробник (Producer) для відправки даних з датчиків у топік building_sensors\n",
    "def produce_sensor_data():\n",
    "    producer = KafkaProducer(\n",
    "        **KAFKA_CONFIG, value_serializer=lambda v: json.dumps(v).encode(\"utf-8\")\n",
    "    )\n",
    "    sensor_id = random.randint(1, 5)\n",
    "    for i in range(20):\n",
    "        try:\n",
    "            data = {\n",
    "                \"sensor_id\": sensor_id,\n",
    "                \"timestamp\": time.strftime(\"%Y-%m-%d %H:%M:%S\", time.localtime()),\n",
    "                \"temperature\": random.randint(25, 45),\n",
    "                \"humidity\": random.randint(15, 85),\n",
    "            }\n",
    "            producer.send(\n",
    "                TOPIC_SENSORS, key=str(uuid.uuid4()).encode(\"utf-8\"), value=data\n",
    "            )\n",
    "            producer.flush()\n",
    "            print(\n",
    "                f\"Повідомлення {i} надіслано в тему '{TOPIC_SENSORS}' успішно з даними: {data}\"\n",
    "            )\n",
    "            time.sleep(2)\n",
    "        except Exception as e:\n",
    "            print(f\"An error occurred: {e}\")\n",
    "    producer.close()\n",
    "\n",
    "\n",
    "if __name__ == \"__main__\":\n",
    "    produce_sensor_data()"
   ]
  }
 ],
 "metadata": {
  "kernelspec": {
   "display_name": "Python 3",
   "language": "python",
   "name": "python3"
  },
  "language_info": {
   "codemirror_mode": {
    "name": "ipython",
    "version": 3
   },
   "file_extension": ".py",
   "mimetype": "text/x-python",
   "name": "python",
   "nbconvert_exporter": "python",
   "pygments_lexer": "ipython3",
   "version": "3.11.9"
  }
 },
 "nbformat": 4,
 "nbformat_minor": 2
}
